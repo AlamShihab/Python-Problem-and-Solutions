{
  "nbformat": 4,
  "nbformat_minor": 0,
  "metadata": {
    "colab": {
      "provenance": [],
      "name": "Python Problems and Solutions.ipynb",
      "authorship_tag": "ABX9TyMCF8a4Qs+XkaZRO81pgLM7",
      "include_colab_link": true
    },
    "kernelspec": {
      "name": "python3",
      "display_name": "Python 3"
    },
    "language_info": {
      "name": "python"
    }
  },
  "cells": [
    {
      "cell_type": "markdown",
      "metadata": {
        "id": "view-in-github",
        "colab_type": "text"
      },
      "source": [
        "<a href=\"https://colab.research.google.com/github/AlamShihab/Python-Problem-and-Solutions/blob/main/Python_Problems_and_Solutions.ipynb\" target=\"_parent\"><img src=\"https://colab.research.google.com/assets/colab-badge.svg\" alt=\"Open In Colab\"/></a>"
      ]
    },
    {
      "cell_type": "markdown",
      "source": [
        "# 1. You have two distinct column. Suppose Column A and Column B. Some values of Column A is in Column B. Now,\n",
        "    a. You have to combine both of the column and create a column that will be unique values from column A and Column B (unique value of column A + Unique Value of Column B + Common value of Column A and Column B)\n",
        "    b. Find the values that are not in column A but in column B."
      ],
      "metadata": {
        "id": "VEG42fjq33Cu"
      }
    },
    {
      "cell_type": "code",
      "execution_count": null,
      "metadata": {
        "colab": {
          "base_uri": "https://localhost:8080/",
          "height": 72
        },
        "id": "_ouUyepUxpKG",
        "outputId": "cf596a94-056f-4e90-a647-391818661dcd"
      },
      "outputs": [
        {
          "output_type": "stream",
          "name": "stdout",
          "text": [
            "Total Unique Words: 1690\n",
            "['20', '30', 'abate', 'aberrant', 'aberration', 'abet', 'abeyance', 'abhor', 'abide', 'abject', 'abjure', 'abound', 'aboveboard', 'abrasive', 'abreast', 'abrogate', 'abscond', 'abstain', 'abstract', 'abstruse', 'abysmal', 'accentuate', 'accessible', 'acclaim', 'accolade', 'accord', 'acerbic', 'acme', 'acolyte', 'acquiesce', 'acquisitive', 'acrimonious', 'acrimony', 'acumen', 'ad', 'adamant', 'adept', 'adhere', 'adjudicate', 'admonish', 'admonitory', 'adroit', 'adulterate', 'adverse', 'advocate', 'aesthete', 'aesthetic', 'affable', 'affectation', 'affinity']\n"
          ]
        },
        {
          "output_type": "display_data",
          "data": {
            "text/plain": [
              "<IPython.core.display.Javascript object>"
            ],
            "application/javascript": [
              "\n",
              "    async function download(id, filename, size) {\n",
              "      if (!google.colab.kernel.accessAllowed) {\n",
              "        return;\n",
              "      }\n",
              "      const div = document.createElement('div');\n",
              "      const label = document.createElement('label');\n",
              "      label.textContent = `Downloading \"${filename}\": `;\n",
              "      div.appendChild(label);\n",
              "      const progress = document.createElement('progress');\n",
              "      progress.max = size;\n",
              "      div.appendChild(progress);\n",
              "      document.body.appendChild(div);\n",
              "\n",
              "      const buffers = [];\n",
              "      let downloaded = 0;\n",
              "\n",
              "      const channel = await google.colab.kernel.comms.open(id);\n",
              "      // Send a message to notify the kernel that we're ready.\n",
              "      channel.send({})\n",
              "\n",
              "      for await (const message of channel.messages) {\n",
              "        // Send a message to notify the kernel that we're ready.\n",
              "        channel.send({})\n",
              "        if (message.buffers) {\n",
              "          for (const buffer of message.buffers) {\n",
              "            buffers.push(buffer);\n",
              "            downloaded += buffer.byteLength;\n",
              "            progress.value = downloaded;\n",
              "          }\n",
              "        }\n",
              "      }\n",
              "      const blob = new Blob(buffers, {type: 'application/binary'});\n",
              "      const a = document.createElement('a');\n",
              "      a.href = window.URL.createObjectURL(blob);\n",
              "      a.download = filename;\n",
              "      div.appendChild(a);\n",
              "      a.click();\n",
              "      div.remove();\n",
              "    }\n",
              "  "
            ]
          },
          "metadata": {}
        },
        {
          "output_type": "display_data",
          "data": {
            "text/plain": [
              "<IPython.core.display.Javascript object>"
            ],
            "application/javascript": [
              "download(\"download_3598daa9-449b-4af0-aa82-e66181fb338b\", \"unique_words.xlsx\", 23413)"
            ]
          },
          "metadata": {}
        }
      ],
      "source": [
        "#Solution 1(a)\n",
        "\n",
        "# Step 1: Install dependencies\n",
        "!pip install pandas openpyxl\n",
        "\n",
        "# Step 2: Upload Excel File\n",
        "from google.colab import files\n",
        "uploaded = files.upload()\n",
        "\n",
        "# Step 3: Read Excel File\n",
        "import pandas as pd\n",
        "\n",
        "# Replace file name\n",
        "file_name = list(uploaded.keys())[0]\n",
        "df = pd.read_excel(file_name)\n",
        "\n",
        "# Step 4: Combine Column A and Column B (Assuming they are the first two columns)\n",
        "combined_text = df.iloc[:, 0].astype(str) + \" \" + df.iloc[:, 1].astype(str)\n",
        "\n",
        "# Step 5: Split into words and get unique values\n",
        "# Optional: Lowercasing and removing punctuation\n",
        "import re\n",
        "\n",
        "all_words = []\n",
        "for text in combined_text:\n",
        "    words = re.findall(r'\\b\\w+\\b', text.lower())  # Only words\n",
        "    all_words.extend(words)\n",
        "\n",
        "# Get distinct words\n",
        "unique_words = sorted(set(all_words))\n",
        "\n",
        "# Step 6: Show or save results\n",
        "print(\"Total Unique Words:\", len(unique_words))\n",
        "print(unique_words[:50])  # Show first 50\n",
        "\n",
        "# Optional: Save to Excel\n",
        "unique_df = pd.DataFrame(unique_words, columns=['Unique_Words'])\n",
        "unique_df.to_excel(\"unique_words.xlsx\", index=False)\n",
        "\n",
        "# Download result\n",
        "files.download(\"unique_words.xlsx\")\n"
      ]
    },
    {
      "cell_type": "code",
      "source": [
        "#solution 1(b)\n",
        "\n",
        "\n",
        "# Step 3: Read Excel File\n",
        "import pandas as pd\n",
        "import re\n",
        "\n",
        "file_name = list(uploaded.keys())[0]\n",
        "df = pd.read_excel(file_name)\n",
        "\n",
        "# Step 4: Extract individual words from Column A and Column B\n",
        "def extract_words(series):\n",
        "    words = []\n",
        "    for text in series.astype(str):\n",
        "        words.extend(re.findall(r'\\b\\w+\\b', text.lower()))\n",
        "    return set(words)\n",
        "\n",
        "# Get distinct words from both columns\n",
        "words_col_a = extract_words(df.iloc[:, 0])\n",
        "words_col_b = extract_words(df.iloc[:, 1])\n",
        "\n",
        "# Step 5: Find words in Column B but not in Column A\n",
        "unique_to_b = sorted(words_col_b - words_col_a)\n",
        "\n",
        "# Step 6: Show or save results\n",
        "print(\"Total Unique Words in Column B but not in A:\", len(unique_to_b))\n",
        "print(unique_to_b[:50])  # Show first 50\n",
        "\n",
        "# Optional: Save to Excel\n",
        "unique_b_df = pd.DataFrame(unique_to_b, columns=['Unique_to_Column_B'])\n",
        "unique_b_df.to_excel(\"unique_to_column_b.xlsx\", index=False)\n",
        "\n",
        "# Download result\n",
        "files.download(\"unique_to_column_b.xlsx\")\n"
      ],
      "metadata": {
        "id": "Hcesvf0FzQo9",
        "outputId": "0fa22019-39d9-4a30-e1dd-b2cb374b5e0d",
        "colab": {
          "base_uri": "https://localhost:8080/",
          "height": 211
        }
      },
      "execution_count": null,
      "outputs": [
        {
          "output_type": "error",
          "ename": "NameError",
          "evalue": "name 'uploaded' is not defined",
          "traceback": [
            "\u001b[0;31m---------------------------------------------------------------------------\u001b[0m",
            "\u001b[0;31mNameError\u001b[0m                                 Traceback (most recent call last)",
            "\u001b[0;32m/tmp/ipython-input-1-551207675.py\u001b[0m in \u001b[0;36m<cell line: 0>\u001b[0;34m()\u001b[0m\n\u001b[1;32m      3\u001b[0m \u001b[0;32mimport\u001b[0m \u001b[0mre\u001b[0m\u001b[0;34m\u001b[0m\u001b[0;34m\u001b[0m\u001b[0m\n\u001b[1;32m      4\u001b[0m \u001b[0;34m\u001b[0m\u001b[0m\n\u001b[0;32m----> 5\u001b[0;31m \u001b[0mfile_name\u001b[0m \u001b[0;34m=\u001b[0m \u001b[0mlist\u001b[0m\u001b[0;34m(\u001b[0m\u001b[0muploaded\u001b[0m\u001b[0;34m.\u001b[0m\u001b[0mkeys\u001b[0m\u001b[0;34m(\u001b[0m\u001b[0;34m)\u001b[0m\u001b[0;34m)\u001b[0m\u001b[0;34m[\u001b[0m\u001b[0;36m0\u001b[0m\u001b[0;34m]\u001b[0m\u001b[0;34m\u001b[0m\u001b[0;34m\u001b[0m\u001b[0m\n\u001b[0m\u001b[1;32m      6\u001b[0m \u001b[0mdf\u001b[0m \u001b[0;34m=\u001b[0m \u001b[0mpd\u001b[0m\u001b[0;34m.\u001b[0m\u001b[0mread_excel\u001b[0m\u001b[0;34m(\u001b[0m\u001b[0mfile_name\u001b[0m\u001b[0;34m)\u001b[0m\u001b[0;34m\u001b[0m\u001b[0;34m\u001b[0m\u001b[0m\n\u001b[1;32m      7\u001b[0m \u001b[0;34m\u001b[0m\u001b[0m\n",
            "\u001b[0;31mNameError\u001b[0m: name 'uploaded' is not defined"
          ]
        }
      ]
    },
    {
      "cell_type": "code",
      "source": [],
      "metadata": {
        "id": "sq6euuo05-ht"
      },
      "execution_count": null,
      "outputs": []
    }
  ]
}